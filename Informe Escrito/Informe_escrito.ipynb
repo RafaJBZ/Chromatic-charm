{
 "cells": [
  {
   "cell_type": "markdown",
   "metadata": {},
   "source": [
    "#### 6. **Desarrollo de la solución:**\n",
    "Esta es la parte central del informe y debe dividirse en varias subsecciones:\n",
    "\n",
    "+ **EDA (Análisis Exploratorio de Datos):**\n",
    "##### Análisis Exploratorio de Datos (EDA)\n",
    "- En este caso el análisis exploratorio no fue muy grande, debido a la naturaleza de nuestros datos y tpo de modelo a implementar. En lo que consistio fue en la lectura de los set de datos de imágenes, mostrando algunas visualizaciones de los set de train y test, asi mismo observamos el tamaño de estas, donde se logro determinar que serian unas buenas imagenes dado que mientras un mayor tamaño de pixeles estas poseen mayor cantidad de caracteristicas que ayudan a nuestro modelo a tener un mejor desempeño. Tambien observamos el rango de los pixeles para saber si era necesario hacer algun proceso.\n",
    "\n",
    "+ **Data Wrangling:**\n",
    "Durante la fase de preparación y limpieza de datos, llevamos a cabo dos procesos principales para asegurar que los datos estuvieran en el formato adecuado para el entrenamiento del modelo. Estos procesos son esenciales para facilitar el aprendizaje del modelo y mejorar su eficacia al trabajar con imágenes. A continuación, describimos los pasos realizados:\n",
    "\n",
    "1. **Reducción de Dimensionalidad:** Convertimos las imágenes de color, que originalmente tenían tres canales (RGB), a escala de grises, quedando con un solo canal. Esta transformación es crucial porque nuestro objetivo es desarrollar un modelo que aprenda a colorear imágenes automáticamente. Reducir la dimensionalidad a un solo canal facilita el manejo de los datos y reduce la complejidad computacional, permitiendo que el modelo se enfoque en aprender la estructura y textura de las imágenes antes de aplicar color.\n",
    "\n",
    "2. **Normalización de Píxeles:** Normalizamos los valores de los píxeles de las imágenes dividiéndolos por 255. Este paso convierte el rango original de los píxeles, que es de 0 a 255, a un rango de 0 a 1. La normalización es una práctica estándar en el procesamiento de imágenes para modelos de aprendizaje automático, ya que mejora la convergencia durante el entrenamiento al mantener los valores de entrada dentro de una escala manejable y más uniforme.\n",
    "\n",
    "Estos ajustes nos aseguran que el dataset está preparado de manera óptima para el entrenamiento del modelo, facilitando un aprendizaje más efectivo y eficiente.\n",
    "\n",
    "+ **Dataset final a trabajar:** Los estudiantes deben explicar qué datos seleccionaron para su proyecto y por qué eligieron esos datos específicos.\n",
    "  - El data set  \n",
    "\n",
    "\n",
    "\n",
    "\n",
    "\n",
    "\n",
    "+ **Entrenamiento del modelo con MLflow:** En esta parte, se detalla cómo se entrenó el modelo de ciencia de datos. Deben utilizar MLflow para registrar los experimentos, incluyendo diferentes configuraciones de modelos y parámetros. Además, deben grabar métricas relevantes para evaluar el rendimiento de los modelos.\n",
    "\n",
    "+ **Selección del mejor modelo:** Con base en los experimentos registrados en MLflow, se debe identificar y seleccionar el modelo que mejor desempeño y métricas muestra.\n",
    "\n",
    "+ **Servir el modelo (API) con el mejor desempeño:** Describe cómo se creó una API para servir el modelo con el mejor rendimiento y métricas a través de una interfaz web o un servicio.\n",
    "\n",
    "+ **Conteneirizar del servicio:** Explica cómo se empaquetó el servicio y se subió a una plataforma de nube, lo que puede incluir el uso de contenedores como Docker.\n",
    "\n",
    "+ **Despliegue del servicio en la nube:** Detalla cómo se implementó el servicio en la nube, cómo se configuraron los recursos. La API se despliega utilizando el modelo que ha mostrado el mejor rendimiento y métricas durante los experimentos."
   ]
  },
  {
   "cell_type": "markdown",
   "metadata": {},
   "source": []
  }
 ],
 "metadata": {
  "language_info": {
   "name": "python"
  }
 },
 "nbformat": 4,
 "nbformat_minor": 2
}
