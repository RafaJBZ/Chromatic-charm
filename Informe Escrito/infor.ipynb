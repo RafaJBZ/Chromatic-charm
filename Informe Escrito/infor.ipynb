{
 "cells": [
  {
   "cell_type": "markdown",
   "metadata": {},
   "source": [
    "#### 6. **Desarrollo de la solución:**\n",
    "Esta es la parte central del informe y debe dividirse en varias subsecciones:\n",
    "\n",
    "\n",
    "+ **Entrenamiento del modelo con MLflow:** En esta parte, se detalla cómo se entrenó el modelo de ciencia de datos. Deben utilizar MLflow para registrar los experimentos, incluyendo diferentes configuraciones de modelos y parámetros. Además, deben grabar métricas relevantes para evaluar el rendimiento de los modelos.\n",
    "\n",
    "+ **Servir el modelo (API) con el mejor desempeño:** Describe cómo se creó una API para servir el modelo con el mejor rendimiento y métricas a través de una interfaz web o un servicio.\n",
    "\n",
    "+ **Conteneirizar del servicio:** Explica cómo se empaquetó el servicio y se subió a una plataforma de nube, lo que puede incluir el uso de contenedores como Docker.\n",
    "\n",
    "+ **Despliegue del servicio en la nube:** Detalla cómo se implementó el servicio en la nube, cómo se configuraron los recursos. La API se despliega utilizando el modelo que ha mostrado el mejor rendimiento y métricas durante los experimentos."
   ]
  },
  {
   "cell_type": "markdown",
   "metadata": {},
   "source": []
  }
 ],
 "metadata": {
  "language_info": {
   "name": "python"
  }
 },
 "nbformat": 4,
 "nbformat_minor": 2
}
